{
 "cells": [
  {
   "cell_type": "markdown",
   "id": "bb535e9a-b125-4486-b01b-f88a664c845d",
   "metadata": {},
   "source": [
    "# Analyze the features"
   ]
  },
  {
   "cell_type": "code",
   "execution_count": 1,
   "id": "e9d00f97-c754-4a7a-9842-508f0d95734d",
   "metadata": {
    "tags": []
   },
   "outputs": [],
   "source": [
    "import pandas as pd\n",
    "path = ''\n",
    "df = pd.read_csv(f'{path}train_features_analysis.csv')"
   ]
  },
  {
   "cell_type": "code",
   "execution_count": 2,
   "id": "4b660e7f-a6f8-46c0-ba65-3e3140ceb901",
   "metadata": {
    "tags": []
   },
   "outputs": [
    {
     "data": {
      "text/html": [
       "<div>\n",
       "<style scoped>\n",
       "    .dataframe tbody tr th:only-of-type {\n",
       "        vertical-align: middle;\n",
       "    }\n",
       "\n",
       "    .dataframe tbody tr th {\n",
       "        vertical-align: top;\n",
       "    }\n",
       "\n",
       "    .dataframe thead th {\n",
       "        text-align: right;\n",
       "    }\n",
       "</style>\n",
       "<table border=\"1\" class=\"dataframe\">\n",
       "  <thead>\n",
       "    <tr style=\"text-align: right;\">\n",
       "      <th></th>\n",
       "      <th>TCR</th>\n",
       "      <th>epitope</th>\n",
       "      <th>binding</th>\n",
       "      <th>TCR_AF1</th>\n",
       "      <th>TCR_AF2</th>\n",
       "      <th>TCR_AF3</th>\n",
       "      <th>TCR_AF4</th>\n",
       "      <th>TCR_AF5</th>\n",
       "      <th>TCR_BLOSUM1</th>\n",
       "      <th>TCR_BLOSUM2</th>\n",
       "      <th>...</th>\n",
       "      <th>TCR_molecular_weight</th>\n",
       "      <th>TCR_hydrophobicity</th>\n",
       "      <th>TCR_aromaticity</th>\n",
       "      <th>TCR_isoelectric_point</th>\n",
       "      <th>TCR_instability_index</th>\n",
       "      <th>epitope_molecular_weight</th>\n",
       "      <th>epitope_hydrophobicity</th>\n",
       "      <th>epitope_aromaticity</th>\n",
       "      <th>epitope_isoelectric_point</th>\n",
       "      <th>epitope_instability_index</th>\n",
       "    </tr>\n",
       "  </thead>\n",
       "  <tbody>\n",
       "    <tr>\n",
       "      <th>0</th>\n",
       "      <td>tensor([[[ 0.0430,  0.1207, -0.0356,  ..., -0....</td>\n",
       "      <td>tensor([[[ 0.1032,  0.1382,  0.0792,  ..., -0....</td>\n",
       "      <td>1</td>\n",
       "      <td>-0.076129</td>\n",
       "      <td>0.297741</td>\n",
       "      <td>-0.776977</td>\n",
       "      <td>-0.069318</td>\n",
       "      <td>-0.651857</td>\n",
       "      <td>0.145714</td>\n",
       "      <td>0.256429</td>\n",
       "      <td>...</td>\n",
       "      <td>1640.6832</td>\n",
       "      <td>-0.650000</td>\n",
       "      <td>0.285714</td>\n",
       "      <td>4.050028</td>\n",
       "      <td>37.764286</td>\n",
       "      <td>885.0627</td>\n",
       "      <td>-0.100000</td>\n",
       "      <td>0.000000</td>\n",
       "      <td>10.002737</td>\n",
       "      <td>39.955556</td>\n",
       "    </tr>\n",
       "    <tr>\n",
       "      <th>1</th>\n",
       "      <td>tensor([[[ 0.0326,  0.1168,  0.0275,  ..., -0....</td>\n",
       "      <td>tensor([[[ 1.2764e-01,  2.0162e-01,  4.4363e-0...</td>\n",
       "      <td>1</td>\n",
       "      <td>-0.063929</td>\n",
       "      <td>0.489718</td>\n",
       "      <td>-0.399876</td>\n",
       "      <td>0.035779</td>\n",
       "      <td>-0.176357</td>\n",
       "      <td>0.203846</td>\n",
       "      <td>0.253846</td>\n",
       "      <td>...</td>\n",
       "      <td>1445.5112</td>\n",
       "      <td>-0.746154</td>\n",
       "      <td>0.230769</td>\n",
       "      <td>5.239896</td>\n",
       "      <td>18.515385</td>\n",
       "      <td>1059.2783</td>\n",
       "      <td>0.922222</td>\n",
       "      <td>0.222222</td>\n",
       "      <td>8.590880</td>\n",
       "      <td>71.901111</td>\n",
       "    </tr>\n",
       "    <tr>\n",
       "      <th>2</th>\n",
       "      <td>tensor([[[ 0.0817,  0.1058,  0.0129,  ..., -0....</td>\n",
       "      <td>tensor([[[ 0.1032,  0.1382,  0.0792,  ..., -0....</td>\n",
       "      <td>1</td>\n",
       "      <td>-0.160409</td>\n",
       "      <td>0.424326</td>\n",
       "      <td>-0.480501</td>\n",
       "      <td>0.325677</td>\n",
       "      <td>-0.269915</td>\n",
       "      <td>0.094286</td>\n",
       "      <td>0.040000</td>\n",
       "      <td>...</td>\n",
       "      <td>1484.5423</td>\n",
       "      <td>-0.271429</td>\n",
       "      <td>0.214286</td>\n",
       "      <td>4.050028</td>\n",
       "      <td>13.900000</td>\n",
       "      <td>885.0627</td>\n",
       "      <td>-0.100000</td>\n",
       "      <td>0.000000</td>\n",
       "      <td>10.002737</td>\n",
       "      <td>39.955556</td>\n",
       "    </tr>\n",
       "    <tr>\n",
       "      <th>3</th>\n",
       "      <td>tensor([[[ 0.0789,  0.1837,  0.0413,  ..., -0....</td>\n",
       "      <td>tensor([[[ 0.0269,  0.1638,  0.0375,  ..., -0....</td>\n",
       "      <td>1</td>\n",
       "      <td>0.260402</td>\n",
       "      <td>-0.120213</td>\n",
       "      <td>-0.191960</td>\n",
       "      <td>0.167132</td>\n",
       "      <td>0.015942</td>\n",
       "      <td>0.317692</td>\n",
       "      <td>-0.027692</td>\n",
       "      <td>...</td>\n",
       "      <td>1627.7823</td>\n",
       "      <td>-1.092308</td>\n",
       "      <td>0.153846</td>\n",
       "      <td>8.249520</td>\n",
       "      <td>109.623077</td>\n",
       "      <td>966.1732</td>\n",
       "      <td>2.266667</td>\n",
       "      <td>0.222222</td>\n",
       "      <td>5.525000</td>\n",
       "      <td>20.855556</td>\n",
       "    </tr>\n",
       "    <tr>\n",
       "      <th>4</th>\n",
       "      <td>tensor([[[ 0.1056,  0.1566,  0.0287,  ..., -0....</td>\n",
       "      <td>tensor([[[ 0.0401,  0.1326,  0.0532,  ..., -0....</td>\n",
       "      <td>1</td>\n",
       "      <td>-0.486168</td>\n",
       "      <td>0.320122</td>\n",
       "      <td>-0.851153</td>\n",
       "      <td>0.615578</td>\n",
       "      <td>-0.419468</td>\n",
       "      <td>-0.069333</td>\n",
       "      <td>-0.258667</td>\n",
       "      <td>...</td>\n",
       "      <td>1484.6715</td>\n",
       "      <td>0.840000</td>\n",
       "      <td>0.133333</td>\n",
       "      <td>4.050028</td>\n",
       "      <td>67.506667</td>\n",
       "      <td>1293.3839</td>\n",
       "      <td>-0.918182</td>\n",
       "      <td>0.181818</td>\n",
       "      <td>6.743628</td>\n",
       "      <td>12.890909</td>\n",
       "    </tr>\n",
       "  </tbody>\n",
       "</table>\n",
       "<p>5 rows × 217 columns</p>\n",
       "</div>"
      ],
      "text/plain": [
       "                                                 TCR  \\\n",
       "0  tensor([[[ 0.0430,  0.1207, -0.0356,  ..., -0....   \n",
       "1  tensor([[[ 0.0326,  0.1168,  0.0275,  ..., -0....   \n",
       "2  tensor([[[ 0.0817,  0.1058,  0.0129,  ..., -0....   \n",
       "3  tensor([[[ 0.0789,  0.1837,  0.0413,  ..., -0....   \n",
       "4  tensor([[[ 0.1056,  0.1566,  0.0287,  ..., -0....   \n",
       "\n",
       "                                             epitope  binding   TCR_AF1  \\\n",
       "0  tensor([[[ 0.1032,  0.1382,  0.0792,  ..., -0....        1 -0.076129   \n",
       "1  tensor([[[ 1.2764e-01,  2.0162e-01,  4.4363e-0...        1 -0.063929   \n",
       "2  tensor([[[ 0.1032,  0.1382,  0.0792,  ..., -0....        1 -0.160409   \n",
       "3  tensor([[[ 0.0269,  0.1638,  0.0375,  ..., -0....        1  0.260402   \n",
       "4  tensor([[[ 0.0401,  0.1326,  0.0532,  ..., -0....        1 -0.486168   \n",
       "\n",
       "    TCR_AF2   TCR_AF3   TCR_AF4   TCR_AF5  TCR_BLOSUM1  TCR_BLOSUM2  ...  \\\n",
       "0  0.297741 -0.776977 -0.069318 -0.651857     0.145714     0.256429  ...   \n",
       "1  0.489718 -0.399876  0.035779 -0.176357     0.203846     0.253846  ...   \n",
       "2  0.424326 -0.480501  0.325677 -0.269915     0.094286     0.040000  ...   \n",
       "3 -0.120213 -0.191960  0.167132  0.015942     0.317692    -0.027692  ...   \n",
       "4  0.320122 -0.851153  0.615578 -0.419468    -0.069333    -0.258667  ...   \n",
       "\n",
       "   TCR_molecular_weight  TCR_hydrophobicity  TCR_aromaticity  \\\n",
       "0             1640.6832           -0.650000         0.285714   \n",
       "1             1445.5112           -0.746154         0.230769   \n",
       "2             1484.5423           -0.271429         0.214286   \n",
       "3             1627.7823           -1.092308         0.153846   \n",
       "4             1484.6715            0.840000         0.133333   \n",
       "\n",
       "   TCR_isoelectric_point  TCR_instability_index  epitope_molecular_weight  \\\n",
       "0               4.050028              37.764286                  885.0627   \n",
       "1               5.239896              18.515385                 1059.2783   \n",
       "2               4.050028              13.900000                  885.0627   \n",
       "3               8.249520             109.623077                  966.1732   \n",
       "4               4.050028              67.506667                 1293.3839   \n",
       "\n",
       "   epitope_hydrophobicity  epitope_aromaticity  epitope_isoelectric_point  \\\n",
       "0               -0.100000             0.000000                  10.002737   \n",
       "1                0.922222             0.222222                   8.590880   \n",
       "2               -0.100000             0.000000                  10.002737   \n",
       "3                2.266667             0.222222                   5.525000   \n",
       "4               -0.918182             0.181818                   6.743628   \n",
       "\n",
       "   epitope_instability_index  \n",
       "0                  39.955556  \n",
       "1                  71.901111  \n",
       "2                  39.955556  \n",
       "3                  20.855556  \n",
       "4                  12.890909  \n",
       "\n",
       "[5 rows x 217 columns]"
      ]
     },
     "execution_count": 2,
     "metadata": {},
     "output_type": "execute_result"
    }
   ],
   "source": [
    "df.head()"
   ]
  },
  {
   "cell_type": "code",
   "execution_count": 3,
   "id": "c7fd71e4-5cd7-4085-ad06-2b3641dbd11f",
   "metadata": {
    "tags": []
   },
   "outputs": [],
   "source": [
    "df = df.drop(columns=['TCR', 'epitope'])"
   ]
  },
  {
   "cell_type": "markdown",
   "id": "2e28b396-4c83-447d-9d4c-2279b4293146",
   "metadata": {},
   "source": [
    "## Random Forest and feature importance"
   ]
  },
  {
   "cell_type": "code",
   "execution_count": 4,
   "id": "6e19c238-28b7-45c5-8647-f850a2e96c18",
   "metadata": {
    "scrolled": true,
    "tags": []
   },
   "outputs": [
    {
     "name": "stdout",
     "output_type": "stream",
     "text": [
      "Accuracy: 0.9625\n"
     ]
    }
   ],
   "source": [
    "from sklearn.ensemble import RandomForestClassifier\n",
    "from sklearn.model_selection import train_test_split\n",
    "from sklearn.metrics import accuracy_score\n",
    "\n",
    "X = df.drop('binding', axis=1)\n",
    "y = df['binding']\n",
    "\n",
    "X_train, X_test, y_train, y_test = train_test_split(X, y, test_size=0.2)\n",
    "\n",
    "rf = RandomForestClassifier(n_estimators = 200, random_state=33)\n",
    "rf.fit(X_train, y_train)\n",
    "\n",
    "y_pred = rf.predict(X_test)\n",
    "accuracy = accuracy_score(y_test, y_pred)\n",
    "print(\"Accuracy:\", accuracy)"
   ]
  },
  {
   "cell_type": "code",
   "execution_count": 5,
   "id": "44186aad-96c4-4177-92a6-38720854bad0",
   "metadata": {
    "tags": []
   },
   "outputs": [
    {
     "name": "stdout",
     "output_type": "stream",
     "text": [
      "                      Feature  Gini Importance\n",
      "116          epitope_BLOSUM10         0.022946\n",
      "185             epitope_VHSE1         0.017300\n",
      "198            epitope_VSTPV6         0.016901\n",
      "126               epitope_KF1         0.016291\n",
      "199                epitope_Z1         0.015695\n",
      "196            epitope_VSTPV4         0.014535\n",
      "166               epitope_ST6         0.013963\n",
      "132               epitope_KF7         0.013776\n",
      "187             epitope_VHSE3         0.012942\n",
      "197            epitope_VSTPV5         0.012822\n",
      "151           epitope_ProtFP3         0.012822\n",
      "170            epitope_SVGER2         0.012758\n",
      "155           epitope_ProtFP7         0.012015\n",
      "209  epitope_molecular_weight         0.011881\n",
      "143                epitope_E5         0.011046\n",
      "110           epitope_BLOSUM4         0.010499\n",
      "195            epitope_VSTPV3         0.009942\n",
      "159               epitope_SV3         0.009516\n",
      "186             epitope_VHSE2         0.009492\n",
      "175            epitope_SVGER7         0.009476\n"
     ]
    }
   ],
   "source": [
    "# feature importance\n",
    "importances = rf.feature_importances_\n",
    "feature_imp_df = pd.DataFrame({'Feature': X.columns, 'Gini Importance': importances}).sort_values('Gini Importance', ascending=False) \n",
    "print(feature_imp_df[:20])"
   ]
  },
  {
   "cell_type": "markdown",
   "id": "14f32094-ab0c-457f-bf96-8fc88723b65f",
   "metadata": {},
   "source": [
    "High Gini Importance: Indicates that the feature is significant in predicting the target variable. Features with higher Gini importance contribute more to model accuracy.\n",
    "\n",
    "`epitope_BLOSUM10`, `epitope_VHSE1`, `epitope_VSTPV6`, `epitope_KF1`, `epitope_Z1`,  are among the most important based on Gini importance."
   ]
  },
  {
   "cell_type": "markdown",
   "id": "104a9174-0a31-4b42-8999-7dc289a00a3f",
   "metadata": {},
   "source": [
    "## Variance Analysis"
   ]
  },
  {
   "cell_type": "code",
   "execution_count": 6,
   "id": "8bc7b6fb-a38d-4ed7-8f2c-f6015c316b05",
   "metadata": {},
   "outputs": [
    {
     "name": "stdout",
     "output_type": "stream",
     "text": [
      "                   descriptors      variance\n",
      "205       TCR_molecular_weight  47308.890621\n",
      "210   epitope_molecular_weight  18359.386069\n",
      "214  epitope_instability_index   1453.671757\n",
      "209      TCR_instability_index    652.029594\n",
      "213  epitope_isoelectric_point      6.171623\n",
      "147              epitope_PRIN1      5.930544\n",
      "176             epitope_SVGER7      4.795772\n",
      "148              epitope_PRIN2      4.440577\n",
      "179            epitope_SVGER10      3.845924\n",
      "208      TCR_isoelectric_point      3.024753\n",
      "77                 TCR_SVGER10      2.572540\n",
      "150            epitope_ProtFP1      2.461494\n",
      "170             epitope_SVGER1      2.420549\n",
      "74                  TCR_SVGER7      2.391468\n",
      "151            epitope_ProtFP2      2.252743\n",
      "181                 epitope_T1      1.877131\n",
      "45                   TCR_PRIN1      1.793627\n",
      "46                   TCR_PRIN2      1.541911\n",
      "68                  TCR_SVGER1      1.407774\n"
     ]
    }
   ],
   "source": [
    "variances = df.var()\n",
    "var_df = variances.reset_index()\n",
    "var_df.columns = ['descriptors', 'variance']\n",
    "\n",
    "# Filter out descriptors with low variance\n",
    "var_df = var_df.query('variance > 1') \n",
    "print(var_df.sort_values(by=['variance'], ascending=False))"
   ]
  },
  {
   "cell_type": "markdown",
   "id": "f346a609-b301-4287-802f-c6e72cf50e78",
   "metadata": {},
   "source": [
    "High Variance: Indicates that the feature has a wide range of values and can be more informative.\n",
    "\n",
    "`TCR_molecular_weight`, `epitope_molecular_weight`, `epitope_instability_index` and `TCR_instability_index` are high in variance, indicating that these features may carry significant information"
   ]
  },
  {
   "cell_type": "markdown",
   "id": "55cc91b5-18e1-4420-89b7-089a202e1947",
   "metadata": {},
   "source": [
    "## Variance Inflation Factor (VIF)"
   ]
  },
  {
   "cell_type": "code",
   "execution_count": 7,
   "id": "442e6ca6-b835-4f33-aff5-c045c394c0e9",
   "metadata": {
    "tags": []
   },
   "outputs": [
    {
     "name": "stderr",
     "output_type": "stream",
     "text": [
      "C:\\Users\\Sven\\anaconda3\\Lib\\site-packages\\statsmodels\\stats\\outliers_influence.py:198: RuntimeWarning: divide by zero encountered in scalar divide\n",
      "  vif = 1. / (1. - r_squared_i)\n"
     ]
    },
    {
     "name": "stdout",
     "output_type": "stream",
     "text": [
      "                       feature        VIF\n",
      "208      TCR_instability_index   1.872116\n",
      "213  epitope_instability_index   2.449817\n",
      "204       TCR_molecular_weight   3.351866\n",
      "209   epitope_molecular_weight   4.070197\n",
      "207      TCR_isoelectric_point   9.126968\n",
      "212  epitope_isoelectric_point  22.399298\n",
      "206            TCR_aromaticity        inf\n",
      "134                epitope_KF9        inf\n",
      "135               epitope_KF10        inf\n",
      "136            epitope_MSWHIM1        inf\n",
      "137            epitope_MSWHIM2        inf\n",
      "138            epitope_MSWHIM3        inf\n",
      "139                 epitope_E1        inf\n",
      "140                 epitope_E2        inf\n",
      "141                 epitope_E3        inf\n",
      "142                 epitope_E4        inf\n",
      "143                 epitope_E5        inf\n",
      "144                epitope_PD1        inf\n",
      "145                epitope_PD2        inf\n",
      "146              epitope_PRIN1        inf\n"
     ]
    }
   ],
   "source": [
    "from statsmodels.stats.outliers_influence import variance_inflation_factor\n",
    "\n",
    "X = df.drop(columns=['binding'])\n",
    "\n",
    "vif_data = pd.DataFrame()\n",
    "vif_data[\"feature\"] = X.columns\n",
    "vif_data[\"VIF\"] = [variance_inflation_factor(X.values, i) for i in range(len(X.columns))]\n",
    "\n",
    "print(vif_data.sort_values(by=['VIF'])[:20])"
   ]
  },
  {
   "cell_type": "markdown",
   "id": "9f60c6e0-3f73-4846-8012-2fd4e3208a27",
   "metadata": {},
   "source": [
    "- VIF < 5: Generally considered acceptable.\n",
    "- VIF between 5–10: Indicates moderate multicollinearity.\n",
    "- VIF > 10: Suggests high multicollinearity; these features should be considered for removal or adjustment.\n",
    "\n",
    "Just `TCR_instability_index`, `epitope_instability_index`, `TCR_molecular_weight`, `epitope_molecular_weight`, `TCR_isoelectric_point` and `epitope_isoelectric_point` have a VIF value the others has an infinit value. Maybe we need to drop some of the features to reduce mutlicollinearity.\n"
   ]
  },
  {
   "cell_type": "markdown",
   "id": "3af74d4b-c1a7-4992-bc32-45b01f04f487",
   "metadata": {},
   "source": [
    "## VIF with a high variance features"
   ]
  },
  {
   "cell_type": "code",
   "execution_count": 8,
   "id": "47a80359-0d7f-4add-98eb-aa324c5cd6d0",
   "metadata": {},
   "outputs": [
    {
     "name": "stdout",
     "output_type": "stream",
     "text": [
      "                      feature         VIF\n",
      "18  epitope_instability_index    1.785308\n",
      "15      TCR_instability_index    2.800042\n",
      "0                   TCR_PRIN1    4.472529\n",
      "1                   TCR_PRIN2   14.986066\n",
      "14      TCR_isoelectric_point   22.257625\n",
      "17  epitope_isoelectric_point   27.688107\n",
      "13       TCR_molecular_weight   62.760359\n",
      "3                  TCR_SVGER7   65.545048\n",
      "7             epitope_ProtFP1   75.574871\n",
      "11            epitope_SVGER10   86.481374\n",
      "10             epitope_SVGER7   88.293459\n",
      "5               epitope_PRIN1   99.598936\n",
      "4                 TCR_SVGER10  126.014853\n",
      "16   epitope_molecular_weight  145.370965\n",
      "9              epitope_SVGER1  158.178729\n",
      "2                  TCR_SVGER1  254.096190\n",
      "8             epitope_ProtFP2  289.717506\n",
      "6               epitope_PRIN2  333.367345\n",
      "12                 epitope_T1  410.318766\n"
     ]
    }
   ],
   "source": [
    "X = df[var_df['descriptors']]\n",
    "\n",
    "vif_data = pd.DataFrame()\n",
    "vif_data[\"feature\"] = X.columns\n",
    "vif_data[\"VIF\"] = [variance_inflation_factor(X.values, i) for i in range(len(X.columns))]\n",
    "\n",
    "print(vif_data.sort_values(by=['VIF']))"
   ]
  },
  {
   "cell_type": "markdown",
   "id": "6523dcf9-b5b9-4064-8e92-305e30185c5a",
   "metadata": {},
   "source": [
    "Only `epitope_instability_index`, `TCR_instability_index` and `TCR_PRIN1` has a smaller value than 10"
   ]
  },
  {
   "cell_type": "markdown",
   "id": "6e091ae8-2cce-4926-801e-9696297e1fea",
   "metadata": {},
   "source": [
    "## VIF with the Physicochemical features from BioPython"
   ]
  },
  {
   "cell_type": "code",
   "execution_count": 9,
   "id": "e8ad7e10-f298-49dc-8c5c-e5f057896d51",
   "metadata": {
    "tags": []
   },
   "outputs": [
    {
     "name": "stdout",
     "output_type": "stream",
     "text": [
      "                     feature        VIF\n",
      "2         TCR_hydrophobicity   1.214408\n",
      "3     epitope_hydrophobicity   1.555622\n",
      "9  epitope_instability_index   1.555990\n",
      "8      TCR_instability_index   2.251413\n",
      "5        epitope_aromaticity   3.385429\n",
      "4            TCR_aromaticity   7.583196\n",
      "7  epitope_isoelectric_point  10.914611\n",
      "6      TCR_isoelectric_point  11.701577\n",
      "0       TCR_molecular_weight  42.279470\n",
      "1   epitope_molecular_weight  50.986218\n"
     ]
    }
   ],
   "source": [
    "X = df[['TCR_molecular_weight', 'epitope_molecular_weight', 'TCR_hydrophobicity', 'epitope_hydrophobicity', 'TCR_aromaticity', 'epitope_aromaticity', 'TCR_isoelectric_point', 'epitope_isoelectric_point', 'TCR_instability_index', 'epitope_instability_index']]\n",
    "\n",
    "vif_data = pd.DataFrame()\n",
    "vif_data[\"feature\"] = X.columns\n",
    "vif_data[\"VIF\"] = [variance_inflation_factor(X.values, i) for i in range(len(X.columns))]\n",
    "\n",
    "print(vif_data.sort_values(by=['VIF']))"
   ]
  },
  {
   "cell_type": "markdown",
   "id": "92eaa69c-80ad-4de5-a3df-8f00a3b0993e",
   "metadata": {},
   "source": [
    "They all have a low vif value except `TCR_molecular_weight` and `epitope_molecular_weight`, but these have a very high variance value. However, the weight seems to be dependent on the other features. So we will drop them in favor to have a more stable model."
   ]
  },
  {
   "cell_type": "markdown",
   "id": "1dd2858d-452a-4ad4-9344-faba0cafc73b",
   "metadata": {},
   "source": [
    "## VIF with the Random Forest Feature importance"
   ]
  },
  {
   "cell_type": "code",
   "execution_count": 10,
   "id": "66d43139-e306-4fbe-b038-1a4897b0f421",
   "metadata": {
    "tags": []
   },
   "outputs": [
    {
     "name": "stdout",
     "output_type": "stream",
     "text": [
      "            feature         VIF\n",
      "3       epitope_KF1    1.653683\n",
      "7       epitope_KF7    1.753344\n",
      "0  epitope_BLOSUM10    2.519118\n",
      "9    epitope_VSTPV5    3.135549\n",
      "5    epitope_VSTPV4    6.211116\n",
      "6       epitope_ST6   18.423876\n",
      "8     epitope_VHSE3   19.364298\n",
      "2    epitope_VSTPV6   21.007194\n",
      "1     epitope_VHSE1   76.965062\n",
      "4        epitope_Z1  107.865807\n"
     ]
    }
   ],
   "source": [
    "X = df[feature_imp_df[:10]['Feature']]\n",
    "\n",
    "vif_data = pd.DataFrame()\n",
    "vif_data[\"feature\"] = X.columns\n",
    "vif_data[\"VIF\"] = [variance_inflation_factor(X.values, i) for i in range(len(X.columns))]\n",
    "\n",
    "print(vif_data.sort_values(by=['VIF']))"
   ]
  },
  {
   "cell_type": "markdown",
   "id": "8e64688b-1414-4ca5-9e83-d67a4f6ca1cb",
   "metadata": {},
   "source": [
    "## VIF with BioPython & Random Forest Feature importance"
   ]
  },
  {
   "cell_type": "code",
   "execution_count": 13,
   "id": "b2a454da-0c91-4ee1-a236-09fd0a64efdb",
   "metadata": {
    "tags": []
   },
   "outputs": [
    {
     "name": "stdout",
     "output_type": "stream",
     "text": [
      "                      feature       VIF\n",
      "4          TCR_hydrophobicity  1.293533\n",
      "0                 epitope_KF7  1.333976\n",
      "3                     TCR_KF1  1.368396\n",
      "1                     TCR_KF7  1.455007\n",
      "11  epitope_instability_index  1.531864\n",
      "2                 epitope_KF1  1.720917\n",
      "8      epitope_hydrophobicity  1.803038\n",
      "7       TCR_instability_index  2.286762\n",
      "9         epitope_aromaticity  2.616315\n",
      "5             TCR_aromaticity  6.149341\n",
      "6       TCR_isoelectric_point  9.049608\n",
      "10  epitope_isoelectric_point  9.635145\n"
     ]
    }
   ],
   "source": [
    "X = df[['epitope_KF7', 'TCR_KF7', 'epitope_KF1', 'TCR_KF1','TCR_hydrophobicity', 'TCR_aromaticity',\n",
    "       'TCR_isoelectric_point', 'TCR_instability_index','epitope_hydrophobicity','epitope_aromaticity',\n",
    "        'epitope_isoelectric_point','epitope_instability_index']]\n",
    "\n",
    "vif_data = pd.DataFrame()\n",
    "vif_data[\"feature\"] = X.columns\n",
    "vif_data[\"VIF\"] = [variance_inflation_factor(X.values, i) for i in range(len(X.columns))]\n",
    "\n",
    "print(vif_data.sort_values(by=['VIF']))"
   ]
  },
  {
   "cell_type": "markdown",
   "id": "98439f57-c5d6-4141-b97d-07d65ff47cd3",
   "metadata": {},
   "source": [
    "Good all VIF values are below 10"
   ]
  },
  {
   "cell_type": "markdown",
   "id": "1494b200-d361-43d2-9e11-81f61f13c7b4",
   "metadata": {},
   "source": [
    "## Retrain Random Forest with reduced features"
   ]
  },
  {
   "cell_type": "code",
   "execution_count": 12,
   "id": "4a525fe3-994d-4d23-9ffc-8cb3bd56a7ac",
   "metadata": {
    "tags": []
   },
   "outputs": [
    {
     "name": "stdout",
     "output_type": "stream",
     "text": [
      "Accuracy: 0.95\n",
      "                      Feature  Gini Importance\n",
      "2                 epitope_KF1         0.191727\n",
      "0                 epitope_KF7         0.179264\n",
      "8      epitope_hydrophobicity         0.111241\n",
      "11  epitope_instability_index         0.108909\n",
      "10  epitope_isoelectric_point         0.100901\n",
      "4          TCR_hydrophobicity         0.051738\n",
      "9         epitope_aromaticity         0.048744\n",
      "1                     TCR_KF7         0.046407\n",
      "7       TCR_instability_index         0.045073\n",
      "3                     TCR_KF1         0.042681\n",
      "6       TCR_isoelectric_point         0.040255\n",
      "5             TCR_aromaticity         0.033060\n"
     ]
    }
   ],
   "source": [
    "X = df[['epitope_KF7', 'TCR_KF7', 'epitope_KF1', 'TCR_KF1','TCR_hydrophobicity', 'TCR_aromaticity',\n",
    "       'TCR_isoelectric_point', 'TCR_instability_index','epitope_hydrophobicity','epitope_aromaticity',\n",
    "        'epitope_isoelectric_point','epitope_instability_index']]\n",
    "y = df['binding']\n",
    "\n",
    "X_train, X_test, y_train, y_test = train_test_split(X, y, test_size=0.2)\n",
    "\n",
    "rf = RandomForestClassifier(n_estimators = 200, random_state=33)\n",
    "rf.fit(X_train, y_train)\n",
    "\n",
    "y_pred = rf.predict(X_test)\n",
    "accuracy = accuracy_score(y_test, y_pred)\n",
    "print(\"Accuracy:\", accuracy)\n",
    "\n",
    "# feature importance\n",
    "importances = rf.feature_importances_\n",
    "feature_imp_df = pd.DataFrame({'Feature': X.columns, 'Gini Importance': importances}).sort_values('Gini Importance', ascending=False) \n",
    "print(feature_imp_df[:20])"
   ]
  },
  {
   "cell_type": "markdown",
   "id": "a332df70-70a7-4209-ac80-6183a2faee42",
   "metadata": {},
   "source": [
    "The Accuracy is just slighty worse, but can considered as the same"
   ]
  },
  {
   "cell_type": "markdown",
   "id": "e82562bf-ee21-439c-a75a-01f7c142396f",
   "metadata": {},
   "source": [
    "# Conclusion"
   ]
  },
  {
   "cell_type": "markdown",
   "id": "0426daa5-9369-492f-afa0-26f07c7ce495",
   "metadata": {
    "tags": []
   },
   "source": [
    "We will take the following physicochemical features:\n",
    "\n",
    "- `TCR_KF7`\n",
    "- `TCR_KF1`\n",
    "- `TCR_hydrophobicity`\n",
    "- `TCR_aromaticity`\n",
    "- `TCR_isoelectric_point`\n",
    "- `TCR_instability_index`\n",
    "- `epitope_KF7`\n",
    "- `epitope_KF1`\n",
    "- `epitope_hydrophobicity`\n",
    "- `epitope_aromaticity`\n",
    "- `epitope_isoelectric_point`\n",
    "- `epitope_instability_index`"
   ]
  }
 ],
 "metadata": {
  "kernelspec": {
   "display_name": "Python 3 (ipykernel)",
   "language": "python",
   "name": "python3"
  },
  "language_info": {
   "codemirror_mode": {
    "name": "ipython",
    "version": 3
   },
   "file_extension": ".py",
   "mimetype": "text/x-python",
   "name": "python",
   "nbconvert_exporter": "python",
   "pygments_lexer": "ipython3",
   "version": "3.10.12"
  }
 },
 "nbformat": 4,
 "nbformat_minor": 5
}
